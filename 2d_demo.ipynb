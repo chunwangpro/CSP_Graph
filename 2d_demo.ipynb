{
 "cells": [
  {
   "cell_type": "code",
   "execution_count": 33,
   "metadata": {},
   "outputs": [],
   "source": [
    "import itertools\n",
    "import numpy as np\n",
    "\n",
    "import torch\n",
    "import torch.nn as nn\n",
    "import torch.nn.functional as F\n",
    "\n",
    "from torch_geometric.data import Data\n",
    "from torch_geometric.utils import to_networkx\n",
    "from torch_geometric.nn import GCNConv, MessagePassing\n",
    "\n",
    "import networkx as nx\n",
    "import matplotlib.pyplot as plt"
   ]
  },
  {
   "cell_type": "code",
   "execution_count": 34,
   "metadata": {},
   "outputs": [],
   "source": [
    "def get_unique_number(data=None):\n",
    "    # get unique number of every axis(column) of data\n",
    "    # todo\n",
    "    x_grid_size = 4\n",
    "    y_grid_size = 3\n",
    "    return [x_grid_size, y_grid_size]"
   ]
  },
  {
   "cell_type": "code",
   "execution_count": 35,
   "metadata": {},
   "outputs": [],
   "source": [
    "unique_number = get_unique_number()\n",
    "num_nodes = np.product(unique_number)\n",
    "x_grid_size, y_grid_size = unique_number"
   ]
  },
  {
   "cell_type": "code",
   "execution_count": 36,
   "metadata": {},
   "outputs": [],
   "source": [
    "# define node and edge features\n",
    "node_features = torch.tensor(\n",
    "    [[i, j] for j in range(y_grid_size) for i in range(x_grid_size)], dtype=torch.float\n",
    ")\n",
    "\n",
    "edges = []\n",
    "for j in range(y_grid_size):\n",
    "    for i in range(x_grid_size):\n",
    "        node_id = j * x_grid_size + i\n",
    "        # out: up, right\n",
    "        if i < x_grid_size - 1:\n",
    "            edges.append([node_id, j * x_grid_size + (i + 1)])\n",
    "        if j < y_grid_size - 1:\n",
    "            edges.append([node_id, (j + 1) * x_grid_size + i])\n",
    "edge_index = torch.tensor(edges, dtype=torch.long).t().contiguous()\n",
    "data = Data(x=node_features, edge_index=edge_index)"
   ]
  },
  {
   "cell_type": "code",
   "execution_count": 37,
   "metadata": {},
   "outputs": [
    {
     "data": {
      "image/png": "[encoded data removed]",
      "text/plain": [
       "<Figure size 400x300 with 1 Axes>"
      ]
     },
     "metadata": {},
     "output_type": "display_data"
    }
   ],
   "source": [
    "# visualize the graph\n",
    "G = to_networkx(data, to_undirected=False)\n",
    "pos = {i: (data.x[i, 0].item(), data.x[i, 1].item()) for i in range(data.x.shape[0])}\n",
    "plt.figure(figsize=(4, 3))\n",
    "nx.draw(\n",
    "    G, pos, with_labels=True, node_color=\"lightblue\", node_size=500, arrows=True, arrowstyle=\"-|>\"\n",
    ")\n",
    "plt.title(\"2D Grid with Directed Edges (Out: Up, Right)\")\n",
    "plt.show()"
   ]
  },
  {
   "cell_type": "code",
   "execution_count": 38,
   "metadata": {},
   "outputs": [],
   "source": [
    "# generate train and test set\n",
    "num_labels = 5\n",
    "\n",
    "labels = torch.full((num_nodes,), float(\"nan\"))\n",
    "selected_points = torch.randperm(num_nodes)[:num_labels]\n",
    "labels[selected_points] = (selected_points + 1) / num_nodes  # CDF F(x)\n",
    "\n",
    "train_mask = torch.zeros(num_nodes, dtype=torch.bool)\n",
    "train_mask[selected_points] = True\n",
    "data.y = labels\n",
    "data.train_mask = train_mask"
   ]
  },
  {
   "cell_type": "code",
   "execution_count": 39,
   "metadata": {},
   "outputs": [],
   "source": [
    "# model 1\n",
    "class GCN(torch.nn.Module):\n",
    "    def __init__(self, in_channels, hidden_channels, out_channels):\n",
    "        super(GCN, self).__init__()\n",
    "        self.conv1 = GCNConv(in_channels, hidden_channels)\n",
    "        self.conv2 = GCNConv(hidden_channels, out_channels)\n",
    "\n",
    "    def forward(self, data):\n",
    "        x, edge_index = data.x, data.edge_index\n",
    "        x = self.conv1(x, edge_index)\n",
    "        x = F.relu(x)\n",
    "        x = self.conv2(x, edge_index)\n",
    "        x = F.sigmoid(x)\n",
    "        x = torch.max(x, dim=1)[0]  # torch.max(x, dim=1, keepdim=True)[0]\n",
    "        return x"
   ]
  },
  {
   "cell_type": "code",
   "execution_count": 40,
   "metadata": {},
   "outputs": [],
   "source": [
    "# model 2\n",
    "class MaxAggConv(MessagePassing):\n",
    "    def __init__(self, in_channels, out_channels):\n",
    "        super(MaxAggConv, self).__init__(aggr=\"max\")  # Use 'max' as the aggregation method\n",
    "        # Add a linear transformation (learnable weights)\n",
    "        self.lin = nn.Linear(in_channels, out_channels)  #\n",
    "\n",
    "    def forward(self, x, edge_index):\n",
    "        # Apply the linear transformation before propagating\n",
    "        x = self.lin(x)  #\n",
    "        return self.propagate(edge_index, x=x)\n",
    "\n",
    "    def message(self, x_j):\n",
    "        # Apply a function to the message (incoming node features)\n",
    "        # return F.sigmoid(x_j)\n",
    "        return x_j\n",
    "\n",
    "    def update(self, aggr_out):\n",
    "        # Return the aggregated values (max values from neighbors)\n",
    "        return aggr_out\n",
    "\n",
    "\n",
    "class GCN(torch.nn.Module):\n",
    "    def __init__(self, in_channels, hidden_channels, out_channels):\n",
    "        super(GCN, self).__init__()\n",
    "        self.conv1 = MaxAggConv(in_channels, hidden_channels)\n",
    "        self.conv2 = MaxAggConv(hidden_channels, out_channels)\n",
    "\n",
    "    def forward(self, data):\n",
    "        x, edge_index = data.x, data.edge_index\n",
    "        x = self.conv1(x, edge_index)\n",
    "        x = F.relu(x)\n",
    "        x = self.conv2(x, edge_index)\n",
    "        return x"
   ]
  },
  {
   "cell_type": "code",
   "execution_count": 41,
   "metadata": {},
   "outputs": [],
   "source": [
    "device = torch.device(\"cuda\" if torch.cuda.is_available() else \"cpu\")\n",
    "model = GCN(2, 16, 1).to(device)\n",
    "data = data.to(device)\n",
    "optimizer = torch.optim.Adam(model.parameters(), lr=0.01, weight_decay=5e-4)\n",
    "criterion = torch.nn.MSELoss()"
   ]
  },
  {
   "cell_type": "code",
   "execution_count": 42,
   "metadata": {},
   "outputs": [
    {
     "data": {
      "text/plain": [
       "(tensor([-0.2670, -0.1478, -0.4370, -0.1966, -0.4812]),\n",
       " tensor([0.3333, 0.5833, 0.6667, 0.9167, 1.0000]))"
      ]
     },
     "execution_count": 42,
     "metadata": {},
     "output_type": "execute_result"
    }
   ],
   "source": [
    "# model output before training\n",
    "out = model(data).squeeze(dim=-1).detach().cpu()\n",
    "out[data.train_mask], data.y[data.train_mask]"
   ]
  },
  {
   "cell_type": "code",
   "execution_count": 43,
   "metadata": {},
   "outputs": [],
   "source": [
    "def train():\n",
    "    model.train()\n",
    "    optimizer.zero_grad()\n",
    "    out = model(data).squeeze(dim=-1)\n",
    "    loss = criterion(out[data.train_mask], data.y[data.train_mask])\n",
    "    loss.backward()\n",
    "    optimizer.step()\n",
    "    return loss.item()"
   ]
  },
  {
   "cell_type": "code",
   "execution_count": 44,
   "metadata": {},
   "outputs": [
    {
     "name": "stdout",
     "output_type": "stream",
     "text": [
      "Epoch 0, Loss: 1.1092514991760254\n",
      "Epoch 200, Loss: 3.143080220979755e-06\n",
      "Epoch 400, Loss: 6.574016424565343e-07\n",
      "Epoch 600, Loss: 5.894223136237997e-07\n",
      "Epoch 800, Loss: 4.933735340273415e-07\n",
      "Epoch 1000, Loss: 4.2487712903493957e-07\n",
      "Epoch 1200, Loss: 3.936102075385861e-07\n",
      "Epoch 1400, Loss: 3.027624586593447e-07\n",
      "Epoch 1600, Loss: 1.852964430781867e-07\n",
      "Epoch 1800, Loss: 1.423069591055537e-07\n"
     ]
    }
   ],
   "source": [
    "for epoch in range(2000):\n",
    "    loss = train()\n",
    "    if epoch % 200 == 0:\n",
    "        print(f\"Epoch {epoch}, Loss: {loss}\")"
   ]
  },
  {
   "cell_type": "code",
   "execution_count": 45,
   "metadata": {},
   "outputs": [
    {
     "data": {
      "image/png": "[encoded data removed]",
      "text/plain": [
       "<Figure size 800x300 with 3 Axes>"
      ]
     },
     "metadata": {},
     "output_type": "display_data"
    }
   ],
   "source": [
    "fig, axs = plt.subplots(1, 2, figsize=(8, 3))\n",
    "\n",
    "# Ground truth\n",
    "G = to_networkx(data, to_undirected=False)\n",
    "nx.draw(G, pos, with_labels=True, node_color=data.y.cpu(), cmap=plt.get_cmap(\"coolwarm\"), ax=axs[0])\n",
    "axs[0].set_title(\"Ground Truth\")\n",
    "\n",
    "# model output\n",
    "model.eval()\n",
    "out = model(data).squeeze()\n",
    "masked_out = torch.full(out.shape, float(\"nan\"))\n",
    "masked_out[data.train_mask] = out[data.train_mask]\n",
    "\n",
    "nx.draw(\n",
    "    G,\n",
    "    pos,\n",
    "    with_labels=True,\n",
    "    node_color=masked_out.detach().cpu(),\n",
    "    cmap=plt.get_cmap(\"coolwarm\"),\n",
    "    ax=axs[1],\n",
    ")\n",
    "axs[1].set_title(\"Model output\")\n",
    "\n",
    "plt.colorbar(axs[1].collections[0], ax=axs[1])\n",
    "plt.tight_layout()\n",
    "plt.show()"
   ]
  },
  {
   "cell_type": "code",
   "execution_count": 46,
   "metadata": {},
   "outputs": [
    {
     "data": {
      "text/plain": [
       "(tensor([0.3337, 0.5837, 0.6670, 0.9164, 0.9997], grad_fn=<IndexBackward0>),\n",
       " tensor([0.3333, 0.5833, 0.6667, 0.9167, 1.0000]))"
      ]
     },
     "execution_count": 46,
     "metadata": {},
     "output_type": "execute_result"
    }
   ],
   "source": [
    "out[data.train_mask], data.y[data.train_mask]"
   ]
  },
  {
   "cell_type": "code",
   "execution_count": 47,
   "metadata": {},
   "outputs": [
    {
     "data": {
      "text/plain": [
       "tensor([0.0000, 0.2044, 0.2701, 0.3337, 0.2044, 0.2701, 0.5837, 0.6670, 0.2701,\n",
       "        0.5837, 0.9164, 0.9997], grad_fn=<SqueezeBackward0>)"
      ]
     },
     "execution_count": 47,
     "metadata": {},
     "output_type": "execute_result"
    }
   ],
   "source": [
    "out"
   ]
  },
  {
   "cell_type": "code",
   "execution_count": null,
   "metadata": {},
   "outputs": [],
   "source": []
  }
 ],
 "metadata": {
  "kernelspec": {
   "display_name": "lattice",
   "language": "python",
   "name": "python3"
  },
  "language_info": {
   "codemirror_mode": {
    "name": "ipython",
    "version": 3
   },
   "file_extension": ".py",
   "mimetype": "text/x-python",
   "name": "python",
   "nbconvert_exporter": "python",
   "pygments_lexer": "ipython3",
   "version": "3.9.18"
  }
 },
 "nbformat": 4,
 "nbformat_minor": 2
}
